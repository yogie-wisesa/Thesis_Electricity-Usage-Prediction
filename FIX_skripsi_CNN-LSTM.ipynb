{
 "cells": [
  {
   "cell_type": "code",
   "execution_count": 1,
   "id": "arbitrary-nomination",
   "metadata": {},
   "outputs": [],
   "source": [
    "import pandas as pd\n",
    "import seaborn as sns\n",
    "import matplotlib.pyplot as plt\n",
    "import numpy as np \n",
    "import tensorflow as tf\n",
    "from keras.models import Sequential\n",
    "from keras.layers import Dense,Dropout,SimpleRNN,LSTM,Conv1D,Flatten\n",
    "from keras.preprocessing.sequence import TimeseriesGenerator\n",
    "import keras\n",
    "import sklearn\n",
    "from sklearn.preprocessing import StandardScaler"
   ]
  },
  {
   "cell_type": "code",
   "execution_count": 2,
   "id": "electoral-white",
   "metadata": {},
   "outputs": [
    {
     "data": {
      "text/html": [
       "<div>\n",
       "<style scoped>\n",
       "    .dataframe tbody tr th:only-of-type {\n",
       "        vertical-align: middle;\n",
       "    }\n",
       "\n",
       "    .dataframe tbody tr th {\n",
       "        vertical-align: top;\n",
       "    }\n",
       "\n",
       "    .dataframe thead th {\n",
       "        text-align: right;\n",
       "    }\n",
       "</style>\n",
       "<table border=\"1\" class=\"dataframe\">\n",
       "  <thead>\n",
       "    <tr style=\"text-align: right;\">\n",
       "      <th></th>\n",
       "      <th>timestamp</th>\n",
       "      <th>appap</th>\n",
       "      <th>Tn</th>\n",
       "      <th>Tx</th>\n",
       "      <th>Tavg</th>\n",
       "      <th>RH_avg</th>\n",
       "      <th>RR</th>\n",
       "      <th>ss</th>\n",
       "      <th>ff_x</th>\n",
       "      <th>ddd_x</th>\n",
       "      <th>ff_avg</th>\n",
       "    </tr>\n",
       "  </thead>\n",
       "  <tbody>\n",
       "    <tr>\n",
       "      <th>0</th>\n",
       "      <td>2013-11-01</td>\n",
       "      <td>920.335194</td>\n",
       "      <td>24</td>\n",
       "      <td>32.4</td>\n",
       "      <td>27.5</td>\n",
       "      <td>79</td>\n",
       "      <td>19.0</td>\n",
       "      <td>5.0</td>\n",
       "      <td>3</td>\n",
       "      <td>160</td>\n",
       "      <td>0</td>\n",
       "    </tr>\n",
       "    <tr>\n",
       "      <th>1</th>\n",
       "      <td>2013-11-02</td>\n",
       "      <td>0.000000</td>\n",
       "      <td>25</td>\n",
       "      <td>32.6</td>\n",
       "      <td>28.2</td>\n",
       "      <td>77</td>\n",
       "      <td>0.0</td>\n",
       "      <td>6.8</td>\n",
       "      <td>3</td>\n",
       "      <td>60</td>\n",
       "      <td>0</td>\n",
       "    </tr>\n",
       "    <tr>\n",
       "      <th>2</th>\n",
       "      <td>2013-11-03</td>\n",
       "      <td>0.000000</td>\n",
       "      <td>27</td>\n",
       "      <td>33.4</td>\n",
       "      <td>29.2</td>\n",
       "      <td>76</td>\n",
       "      <td>NaN</td>\n",
       "      <td>4.2</td>\n",
       "      <td>3</td>\n",
       "      <td>360</td>\n",
       "      <td>1</td>\n",
       "    </tr>\n",
       "    <tr>\n",
       "      <th>3</th>\n",
       "      <td>2013-11-04</td>\n",
       "      <td>1103.977583</td>\n",
       "      <td>26</td>\n",
       "      <td>32.0</td>\n",
       "      <td>28.7</td>\n",
       "      <td>79</td>\n",
       "      <td>NaN</td>\n",
       "      <td>4.5</td>\n",
       "      <td>4</td>\n",
       "      <td>320</td>\n",
       "      <td>1</td>\n",
       "    </tr>\n",
       "    <tr>\n",
       "      <th>4</th>\n",
       "      <td>2013-11-05</td>\n",
       "      <td>126.806000</td>\n",
       "      <td>26</td>\n",
       "      <td>33.4</td>\n",
       "      <td>29.3</td>\n",
       "      <td>76</td>\n",
       "      <td>0.0</td>\n",
       "      <td>3.0</td>\n",
       "      <td>5</td>\n",
       "      <td>360</td>\n",
       "      <td>2</td>\n",
       "    </tr>\n",
       "  </tbody>\n",
       "</table>\n",
       "</div>"
      ],
      "text/plain": [
       "    timestamp        appap  Tn    Tx  Tavg  RH_avg    RR   ss  ff_x  ddd_x  \\\n",
       "0  2013-11-01   920.335194  24  32.4  27.5      79  19.0  5.0     3    160   \n",
       "1  2013-11-02     0.000000  25  32.6  28.2      77   0.0  6.8     3     60   \n",
       "2  2013-11-03     0.000000  27  33.4  29.2      76   NaN  4.2     3    360   \n",
       "3  2013-11-04  1103.977583  26  32.0  28.7      79   NaN  4.5     4    320   \n",
       "4  2013-11-05   126.806000  26  33.4  29.3      76   0.0  3.0     5    360   \n",
       "\n",
       "   ff_avg  \n",
       "0       0  \n",
       "1       0  \n",
       "2       1  \n",
       "3       1  \n",
       "4       2  "
      ]
     },
     "execution_count": 2,
     "metadata": {},
     "output_type": "execute_result"
    }
   ],
   "source": [
    "df = pd.read_csv('ACdailyS.csv',delimiter=';')\n",
    "df.head()"
   ]
  },
  {
   "cell_type": "code",
   "execution_count": 3,
   "id": "corporate-education",
   "metadata": {
    "tags": []
   },
   "outputs": [
    {
     "data": {
      "text/plain": [
       "timestamp     0\n",
       "appap         0\n",
       "Tn            0\n",
       "Tx            0\n",
       "Tavg          0\n",
       "RH_avg        0\n",
       "RR           15\n",
       "ss           14\n",
       "ff_x          0\n",
       "ddd_x         0\n",
       "ff_avg        0\n",
       "dtype: int64"
      ]
     },
     "execution_count": 3,
     "metadata": {},
     "output_type": "execute_result"
    }
   ],
   "source": [
    "df.isnull().sum()"
   ]
  },
  {
   "cell_type": "code",
   "execution_count": 4,
   "id": "electric-today",
   "metadata": {},
   "outputs": [
    {
     "data": {
      "text/plain": [
       "timestamp    0\n",
       "appap        0\n",
       "Tn           0\n",
       "Tx           0\n",
       "Tavg         0\n",
       "RH_avg       0\n",
       "RR           0\n",
       "ss           0\n",
       "ff_x         0\n",
       "ddd_x        0\n",
       "ff_avg       0\n",
       "dtype: int64"
      ]
     },
     "execution_count": 4,
     "metadata": {},
     "output_type": "execute_result"
    }
   ],
   "source": [
    "mode_RR=df['RR'].mode()[0]\n",
    "mode_ss=df['ss'].mode()[0]\n",
    "df['RR'].fillna(value=mode_RR, inplace=True)\n",
    "df['ss'].fillna(value=mode_ss, inplace=True)\n",
    "df.isnull().sum()"
   ]
  },
  {
   "cell_type": "code",
   "execution_count": 5,
   "id": "demonstrated-builder",
   "metadata": {},
   "outputs": [],
   "source": [
    "train_dates = pd.to_datetime(df['timestamp'])"
   ]
  },
  {
   "cell_type": "code",
   "execution_count": 6,
   "id": "vertical-progressive",
   "metadata": {},
   "outputs": [],
   "source": [
    "df['Day']= pd.DatetimeIndex(df['timestamp']).day_of_week\n",
    "df['month']=pd.DatetimeIndex(df['timestamp']).month\n",
    "df['quarter']=pd.DatetimeIndex(df['timestamp']).quarter"
   ]
  },
  {
   "cell_type": "code",
   "execution_count": 7,
   "id": "statutory-divide",
   "metadata": {},
   "outputs": [
    {
     "data": {
      "text/plain": [
       "appap      1.000000\n",
       "Tn         0.076154\n",
       "Tx         0.314729\n",
       "Tavg       0.342783\n",
       "RH_avg    -0.280477\n",
       "RR        -0.165655\n",
       "ss         0.270747\n",
       "ff_x      -0.011398\n",
       "ddd_x     -0.096679\n",
       "ff_avg    -0.074332\n",
       "Day       -0.529650\n",
       "month      0.207942\n",
       "quarter    0.186077\n",
       "Name: appap, dtype: float64"
      ]
     },
     "execution_count": 7,
     "metadata": {},
     "output_type": "execute_result"
    }
   ],
   "source": [
    "pearsoncorr = df.corr(method='pearson', min_periods=7)\n",
    "pearsoncorr['appap']"
   ]
  },
  {
   "cell_type": "code",
   "execution_count": 8,
   "id": "massive-exchange",
   "metadata": {},
   "outputs": [
    {
     "data": {
      "text/html": [
       "<div>\n",
       "<style scoped>\n",
       "    .dataframe tbody tr th:only-of-type {\n",
       "        vertical-align: middle;\n",
       "    }\n",
       "\n",
       "    .dataframe tbody tr th {\n",
       "        vertical-align: top;\n",
       "    }\n",
       "\n",
       "    .dataframe thead th {\n",
       "        text-align: right;\n",
       "    }\n",
       "</style>\n",
       "<table border=\"1\" class=\"dataframe\">\n",
       "  <thead>\n",
       "    <tr style=\"text-align: right;\">\n",
       "      <th></th>\n",
       "      <th>timestamp</th>\n",
       "      <th>appap</th>\n",
       "      <th>Tx</th>\n",
       "      <th>Tavg</th>\n",
       "      <th>RH_avg</th>\n",
       "      <th>ss</th>\n",
       "      <th>Day</th>\n",
       "      <th>month</th>\n",
       "      <th>quarter</th>\n",
       "    </tr>\n",
       "  </thead>\n",
       "  <tbody>\n",
       "    <tr>\n",
       "      <th>0</th>\n",
       "      <td>2013-11-01</td>\n",
       "      <td>920.335194</td>\n",
       "      <td>32.4</td>\n",
       "      <td>27.5</td>\n",
       "      <td>79</td>\n",
       "      <td>5.0</td>\n",
       "      <td>4</td>\n",
       "      <td>11</td>\n",
       "      <td>4</td>\n",
       "    </tr>\n",
       "    <tr>\n",
       "      <th>1</th>\n",
       "      <td>2013-11-02</td>\n",
       "      <td>0.000000</td>\n",
       "      <td>32.6</td>\n",
       "      <td>28.2</td>\n",
       "      <td>77</td>\n",
       "      <td>6.8</td>\n",
       "      <td>5</td>\n",
       "      <td>11</td>\n",
       "      <td>4</td>\n",
       "    </tr>\n",
       "    <tr>\n",
       "      <th>2</th>\n",
       "      <td>2013-11-03</td>\n",
       "      <td>0.000000</td>\n",
       "      <td>33.4</td>\n",
       "      <td>29.2</td>\n",
       "      <td>76</td>\n",
       "      <td>4.2</td>\n",
       "      <td>6</td>\n",
       "      <td>11</td>\n",
       "      <td>4</td>\n",
       "    </tr>\n",
       "    <tr>\n",
       "      <th>3</th>\n",
       "      <td>2013-11-04</td>\n",
       "      <td>1103.977583</td>\n",
       "      <td>32.0</td>\n",
       "      <td>28.7</td>\n",
       "      <td>79</td>\n",
       "      <td>4.5</td>\n",
       "      <td>0</td>\n",
       "      <td>11</td>\n",
       "      <td>4</td>\n",
       "    </tr>\n",
       "    <tr>\n",
       "      <th>4</th>\n",
       "      <td>2013-11-05</td>\n",
       "      <td>126.806000</td>\n",
       "      <td>33.4</td>\n",
       "      <td>29.3</td>\n",
       "      <td>76</td>\n",
       "      <td>3.0</td>\n",
       "      <td>1</td>\n",
       "      <td>11</td>\n",
       "      <td>4</td>\n",
       "    </tr>\n",
       "  </tbody>\n",
       "</table>\n",
       "</div>"
      ],
      "text/plain": [
       "    timestamp        appap    Tx  Tavg  RH_avg   ss  Day  month  quarter\n",
       "0  2013-11-01   920.335194  32.4  27.5      79  5.0    4     11        4\n",
       "1  2013-11-02     0.000000  32.6  28.2      77  6.8    5     11        4\n",
       "2  2013-11-03     0.000000  33.4  29.2      76  4.2    6     11        4\n",
       "3  2013-11-04  1103.977583  32.0  28.7      79  4.5    0     11        4\n",
       "4  2013-11-05   126.806000  33.4  29.3      76  3.0    1     11        4"
      ]
     },
     "execution_count": 8,
     "metadata": {},
     "output_type": "execute_result"
    }
   ],
   "source": [
    "df = df.drop(['Tn', 'ff_x', 'ddd_x', 'ff_avg', 'RR'], axis=1)\n",
    "df.head()"
   ]
  },
  {
   "cell_type": "code",
   "execution_count": 9,
   "id": "outside-timer",
   "metadata": {},
   "outputs": [],
   "source": [
    "cols = list(df)[1:]"
   ]
  },
  {
   "cell_type": "code",
   "execution_count": 10,
   "id": "stone-reminder",
   "metadata": {},
   "outputs": [],
   "source": [
    "df_for_training = df[cols].astype(float)"
   ]
  },
  {
   "cell_type": "code",
   "execution_count": 11,
   "id": "collective-release",
   "metadata": {},
   "outputs": [],
   "source": [
    "scaler = StandardScaler()\n",
    "scaler = scaler.fit(df_for_training)\n",
    "df_for_training_scaled = scaler.transform(df_for_training)"
   ]
  },
  {
   "cell_type": "code",
   "execution_count": 12,
   "id": "increasing-introduction",
   "metadata": {},
   "outputs": [],
   "source": [
    "#Empty lists to be populated using formatted training data\n",
    "trainX = []\n",
    "trainY = []\n",
    "\n",
    "n_future = 1   # Number of days we want to look into the future based on the past days.\n",
    "n_past = 14 # Number of past days we want to use to predict the future."
   ]
  },
  {
   "cell_type": "code",
   "execution_count": 13,
   "id": "binary-contrast",
   "metadata": {},
   "outputs": [
    {
     "name": "stdout",
     "output_type": "stream",
     "text": [
      "trainX shape == (351, 14, 8).\n",
      "trainY shape == (351, 1).\n",
      "testX shape == (11, 14, 8).\n",
      "testY shape == (11, 1).\n"
     ]
    }
   ],
   "source": [
    "for i in range(n_past, len(df_for_training_scaled) - n_future +1):\n",
    "    trainX.append(df_for_training_scaled[i - n_past:i, 0:df_for_training.shape[1]])\n",
    "    trainY.append(df_for_training_scaled[i + n_future - 1:i + n_future, 0])\n",
    "\n",
    "trainX, trainY = np.array(trainX), np.array(trainY)\n",
    "\n",
    "testX,testY = trainX[-11:],trainY[-11:]\n",
    "trainX, trainY = trainX[:-11],trainY[:-11]\n",
    "print('trainX shape == {}.'.format(trainX.shape))\n",
    "print('trainY shape == {}.'.format(trainY.shape))\n",
    "print('testX shape == {}.'.format(testX.shape))\n",
    "print('testY shape == {}.'.format(testY.shape))"
   ]
  },
  {
   "cell_type": "code",
   "execution_count": 14,
   "id": "western-michigan",
   "metadata": {},
   "outputs": [
    {
     "name": "stdout",
     "output_type": "stream",
     "text": [
      "Model: \"sequential\"\n",
      "_________________________________________________________________\n",
      "Layer (type)                 Output Shape              Param #   \n",
      "=================================================================\n",
      "conv1d (Conv1D)              (None, 14, 128)           2176      \n",
      "_________________________________________________________________\n",
      "lstm (LSTM)                  (None, 128)               131584    \n",
      "_________________________________________________________________\n",
      "dropout (Dropout)            (None, 128)               0         \n",
      "_________________________________________________________________\n",
      "dense (Dense)                (None, 64)                8256      \n",
      "_________________________________________________________________\n",
      "dense_1 (Dense)              (None, 1)                 65        \n",
      "=================================================================\n",
      "Total params: 142,081\n",
      "Trainable params: 142,081\n",
      "Non-trainable params: 0\n",
      "_________________________________________________________________\n"
     ]
    }
   ],
   "source": [
    "model = Sequential()\n",
    "model.add(Conv1D(filters=128, kernel_size=2,strides=1, padding='causal',activation='relu', input_shape=(trainX.shape[1], trainX.shape[2])))\n",
    "#model.add(LSTM(128, activation='relu', input_shape=(trainX.shape[1], trainX.shape[2]), return_sequences=True))\n",
    "#model.add(LSTM(128, activation='relu', return_sequences=True))\n",
    "model.add(LSTM(128, activation='relu', return_sequences=False))\n",
    "model.add(Dropout(0.2))\n",
    "model.add(Dense(64,activation='relu'))\n",
    "model.add(Dense(trainY.shape[1]))\n",
    "\n",
    "model.compile(optimizer='adam', loss='mse')\n",
    "model.summary()"
   ]
  },
  {
   "cell_type": "code",
   "execution_count": 15,
   "id": "renewable-extreme",
   "metadata": {},
   "outputs": [
    {
     "data": {
      "text/plain": [
       "<matplotlib.legend.Legend at 0x29f8945fcd0>"
      ]
     },
     "execution_count": 15,
     "metadata": {},
     "output_type": "execute_result"
    },
    {
     "data": {
      "image/png": "[encoded data removed]",
      "text/plain": [
       "<Figure size 432x288 with 1 Axes>"
      ]
     },
     "metadata": {
      "needs_background": "light"
     },
     "output_type": "display_data"
    }
   ],
   "source": [
    "history = model.fit(trainX, trainY, epochs=100, batch_size=16, validation_data=(testX, testY), verbose=0)\n",
    "\n",
    "plt.plot(history.history['loss'], label='Training loss')\n",
    "plt.plot(history.history['val_loss'], label='Validation loss')\n",
    "plt.legend()"
   ]
  },
  {
   "cell_type": "code",
   "execution_count": 16,
   "id": "pursuant-prayer",
   "metadata": {},
   "outputs": [],
   "source": [
    "n_days_for_prediction=11\n",
    "prediction = model.predict(testX)"
   ]
  },
  {
   "cell_type": "code",
   "execution_count": 17,
   "id": "tight-disposal",
   "metadata": {},
   "outputs": [
    {
     "name": "stdout",
     "output_type": "stream",
     "text": [
      "R^2 Score of LSTM model =  0.8310049062307979\n"
     ]
    }
   ],
   "source": [
    "from sklearn.metrics import r2_score,mean_absolute_error\n",
    "lstm_score = r2_score(testY, prediction)\n",
    "print(\"R^2 Score of LSTM model = \",lstm_score)"
   ]
  },
  {
   "cell_type": "code",
   "execution_count": 18,
   "id": "abandoned-sound",
   "metadata": {},
   "outputs": [
    {
     "name": "stdout",
     "output_type": "stream",
     "text": [
      "[Timestamp('2014-11-01 00:00:00', freq='D'), Timestamp('2014-11-02 00:00:00', freq='D'), Timestamp('2014-11-03 00:00:00', freq='D'), Timestamp('2014-11-04 00:00:00', freq='D'), Timestamp('2014-11-05 00:00:00', freq='D'), Timestamp('2014-11-06 00:00:00', freq='D'), Timestamp('2014-11-07 00:00:00', freq='D'), Timestamp('2014-11-08 00:00:00', freq='D'), Timestamp('2014-11-09 00:00:00', freq='D'), Timestamp('2014-11-10 00:00:00', freq='D'), Timestamp('2014-11-11 00:00:00', freq='D')]\n"
     ]
    }
   ],
   "source": [
    "n_past = 11\n",
    "predict_period_dates = pd.date_range(list(train_dates)[-n_past], periods=n_days_for_prediction).tolist()\n",
    "print(predict_period_dates)\n"
   ]
  },
  {
   "cell_type": "code",
   "execution_count": 19,
   "id": "massive-brisbane",
   "metadata": {},
   "outputs": [],
   "source": [
    "prediction_copies = np.repeat(prediction, df_for_training.shape[1], axis=-1)\n",
    "y_pred_future = scaler.inverse_transform(prediction_copies)[:,0]"
   ]
  },
  {
   "cell_type": "code",
   "execution_count": 20,
   "id": "supreme-stress",
   "metadata": {},
   "outputs": [],
   "source": [
    "forecast_dates = []\n",
    "for time_i in predict_period_dates:\n",
    "    forecast_dates.append(time_i.date())"
   ]
  },
  {
   "cell_type": "code",
   "execution_count": 21,
   "id": "earlier-pencil",
   "metadata": {},
   "outputs": [],
   "source": [
    "df_forecast = pd.DataFrame({'timestamp':np.array(forecast_dates), 'appap':y_pred_future})\n",
    "df_forecast['timestamp']=pd.to_datetime(df_forecast['timestamp'])\n"
   ]
  },
  {
   "cell_type": "code",
   "execution_count": 22,
   "id": "charitable-spanish",
   "metadata": {},
   "outputs": [
    {
     "name": "stderr",
     "output_type": "stream",
     "text": [
      "<ipython-input-22-79192af0b5de>:2: SettingWithCopyWarning: \n",
      "A value is trying to be set on a copy of a slice from a DataFrame.\n",
      "Try using .loc[row_indexer,col_indexer] = value instead\n",
      "\n",
      "See the caveats in the documentation: https://pandas.pydata.org/pandas-docs/stable/user_guide/indexing.html#returning-a-view-versus-a-copy\n",
      "  original['timestamp']=df_forecast['timestamp']\n"
     ]
    }
   ],
   "source": [
    "original = df[['timestamp', 'appap']]\n",
    "original['timestamp']=df_forecast['timestamp']\n",
    "original = original.iloc[-11:]\n"
   ]
  },
  {
   "cell_type": "code",
   "execution_count": 23,
   "id": "undefined-concentrate",
   "metadata": {},
   "outputs": [
    {
     "data": {
      "image/png": "[encoded data removed]",
      "text/plain": [
       "<Figure size 720x504 with 1 Axes>"
      ]
     },
     "metadata": {
      "needs_background": "light"
     },
     "output_type": "display_data"
    }
   ],
   "source": [
    "def plot_predictions(test, predicted, title):\n",
    "    plt.figure(figsize=(10,7))\n",
    "    plt.plot(df_forecast['timestamp'],test, color='blue',label='Penggunaan daya sebenarnya')\n",
    "    plt.plot(df_forecast['timestamp'],predicted, color='orange',label='Prediksi penggunaan daya')\n",
    "    plt.title(title)\n",
    "    plt.xlabel('Tanggal')\n",
    "    plt.ylabel('Penggunaan daya dalam kWH')\n",
    "    plt.legend()\n",
    "    plt.show()\n",
    "plot_predictions(original['appap'], df_forecast['appap'], \"Prediksi Model CNN-LSTM dengan Data Cuaca\")"
   ]
  },
  {
   "cell_type": "code",
   "execution_count": 24,
   "id": "polyphonic-architect",
   "metadata": {},
   "outputs": [],
   "source": [
    "def calculate_smape(actual, predicted) -> float:\n",
    "  \n",
    "    # Convert actual and predicted to numpy\n",
    "    # array data type if not already\n",
    "    if not all([isinstance(actual, np.ndarray), \n",
    "                isinstance(predicted, np.ndarray)]):\n",
    "        actual, predicted = np.array(actual), np.array(predicted)\n",
    "  \n",
    "    return round(np.mean(np.abs(predicted - actual) / ((np.abs(predicted) + np.abs(actual))/2))*100, 2)"
   ]
  },
  {
   "cell_type": "code",
   "execution_count": 25,
   "id": "imposed-defense",
   "metadata": {},
   "outputs": [
    {
     "data": {
      "text/plain": [
       "62.08"
      ]
     },
     "execution_count": 25,
     "metadata": {},
     "output_type": "execute_result"
    }
   ],
   "source": [
    "calculate_smape(original['appap'], df_forecast['appap'])"
   ]
  },
  {
   "cell_type": "code",
   "execution_count": 26,
   "id": "discrete-harbor",
   "metadata": {},
   "outputs": [
    {
     "name": "stdout",
     "output_type": "stream",
     "text": [
      "mae =  136.5501957558911\n"
     ]
    }
   ],
   "source": [
    "mae = mean_absolute_error(original['appap'], df_forecast['appap'])\n",
    "print(\"mae = \",mae)"
   ]
  },
  {
   "cell_type": "code",
   "execution_count": 27,
   "id": "trying-elite",
   "metadata": {},
   "outputs": [],
   "source": [
    "model.save(\"Model_CNN-LSTM.h5\")"
   ]
  },
  {
   "cell_type": "code",
   "execution_count": null,
   "id": "consistent-marketplace",
   "metadata": {},
   "outputs": [],
   "source": []
  }
 ],
 "metadata": {
  "kernelspec": {
   "display_name": "Python 3",
   "language": "python",
   "name": "python3"
  },
  "language_info": {
   "codemirror_mode": {
    "name": "ipython",
    "version": 3
   },
   "file_extension": ".py",
   "mimetype": "text/x-python",
   "name": "python",
   "nbconvert_exporter": "python",
   "pygments_lexer": "ipython3",
   "version": "3.9.0"
  }
 },
 "nbformat": 4,
 "nbformat_minor": 5
}
